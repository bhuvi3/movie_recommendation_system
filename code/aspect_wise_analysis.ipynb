{
 "cells": [
  {
   "cell_type": "code",
   "execution_count": 4,
   "metadata": {},
   "outputs": [],
   "source": [
    "from collections import defaultdict\n",
    "\n",
    "import pickle\n",
    "\n",
    "import matplotlib.pyplot as plt\n",
    "import pandas as pd\n",
    "import numpy as np"
   ]
  },
  {
   "cell_type": "code",
   "execution_count": 6,
   "metadata": {},
   "outputs": [],
   "source": [
    "raintgs_mat_train_file = \"../data/rating_mats/ratings_mat_train.pickle\"\n",
    "\n",
    "with open(raintgs_mat_train_file, \"rb\") as fp:\n",
    "    ratings_mat_train = pickle.load(fp)\n",
    "\n",
    "inv_ratings_mat_train = defaultdict(dict)\n",
    "for user_id, item_ratings in ratings_mat_train.items():\n",
    "    for item_id, rating in item_ratings.items():\n",
    "        inv_ratings_mat_train[item_id][user_id] = rating\n"
   ]
  },
  {
   "cell_type": "markdown",
   "metadata": {},
   "source": [
    "# Aspect: User"
   ]
  },
  {
   "cell_type": "code",
   "execution_count": 55,
   "metadata": {},
   "outputs": [
    {
     "name": "stdout",
     "output_type": "stream",
     "text": [
      "count    270646.000000\n",
      "mean         91.348385\n",
      "std         195.506129\n",
      "min           1.000000\n",
      "25%          14.000000\n",
      "50%          28.000000\n",
      "75%          88.000000\n",
      "max       17384.000000\n",
      "Name: num_movies, dtype: float64\n",
      "Use func: get_user_aspect_qcut(user_id).\n"
     ]
    }
   ],
   "source": [
    "def get_user_aspect_func():\n",
    "    user_ids = []\n",
    "    num_movies = []\n",
    "    for user_id, item_ratings in ratings_mat_train.items():\n",
    "        user_ids.append(user_id)\n",
    "        num_movies.append(len(item_ratings))\n",
    "\n",
    "    user_aspect_counts = pd.DataFrame({\"user_id\": user_ids, \"num_movies\": num_movies})\n",
    "    print(user_aspect_counts.num_movies.describe())\n",
    "\n",
    "    user_aspect_counts['qcut_label'] = pd.qcut(user_aspect_counts.num_movies.rank(method='first'), 100, labels=False)\n",
    "    user_aspect_counts = user_aspect_counts.set_index(\"user_id\")\n",
    "\n",
    "    def get_user_aspect_qcut(user_id):\n",
    "        return user_aspect_counts.loc[user_id]['qcut_label']\n",
    "\n",
    "    print(\"\\nUse func: get_user_aspect_qcut(user_id).\")\n",
    "    return get_user_aspect_qcut\n",
    "\n",
    "get_user_aspect_qcut = get_user_aspect_func()"
   ]
  },
  {
   "cell_type": "markdown",
   "metadata": {},
   "source": [
    "# Aspect: Movie"
   ]
  },
  {
   "cell_type": "code",
   "execution_count": 56,
   "metadata": {},
   "outputs": [
    {
     "name": "stdout",
     "output_type": "stream",
     "text": [
      "count    44759.000000\n",
      "mean       552.359861\n",
      "std       2896.279995\n",
      "min          1.000000\n",
      "25%          2.000000\n",
      "50%          8.000000\n",
      "75%         67.000000\n",
      "max      87416.000000\n",
      "Name: num_users, dtype: float64\n",
      "\n",
      "Use func: get_movie_aspect_qcut(movie_id).\n"
     ]
    }
   ],
   "source": [
    "def get_movie_aspect_func():\n",
    "    movie_ids = []\n",
    "    num_users = []\n",
    "\n",
    "    for movie_id, user_ratings in inv_ratings_mat_train.items():\n",
    "        movie_ids.append(movie_id)\n",
    "        num_users.append(len(user_ratings))\n",
    "\n",
    "    movie_aspect_counts = pd.DataFrame({\"movie_id\": movie_ids, \"num_users\": num_users})\n",
    "    print(movie_aspect_counts.num_users.describe())\n",
    "\n",
    "    movie_aspect_counts['qcut_label'] = pd.qcut(movie_aspect_counts.num_users.rank(method='first'), 100, labels=False)\n",
    "    movie_aspect_counts = movie_aspect_counts.set_index(\"movie_id\")\n",
    "\n",
    "    def get_movie_aspect_qcut(movie_id):\n",
    "        return movie_aspect_counts.loc[movie_id]['qcut_label']\n",
    "\n",
    "    print(\"\\nUse func: get_movie_aspect_qcut(movie_id).\")\n",
    "    return get_movie_aspect_qcut\n",
    "\n",
    "get_movie_aspect_qcut = get_movie_aspect_func()"
   ]
  },
  {
   "cell_type": "markdown",
   "metadata": {},
   "source": [
    "# Aspect: Genre (categorical)"
   ]
  },
  {
   "cell_type": "code",
   "execution_count": null,
   "metadata": {},
   "outputs": [],
   "source": []
  },
  {
   "cell_type": "code",
   "execution_count": null,
   "metadata": {},
   "outputs": [],
   "source": []
  },
  {
   "cell_type": "code",
   "execution_count": null,
   "metadata": {},
   "outputs": [],
   "source": []
  },
  {
   "cell_type": "code",
   "execution_count": null,
   "metadata": {},
   "outputs": [],
   "source": []
  },
  {
   "cell_type": "code",
   "execution_count": null,
   "metadata": {},
   "outputs": [],
   "source": []
  },
  {
   "cell_type": "code",
   "execution_count": null,
   "metadata": {},
   "outputs": [],
   "source": []
  },
  {
   "cell_type": "markdown",
   "metadata": {},
   "source": [
    "# Aspect: Top Actors"
   ]
  },
  {
   "cell_type": "code",
   "execution_count": 70,
   "metadata": {},
   "outputs": [],
   "source": [
    "actors_one_hot_file = \"../data/actor_one_hot.pickle\"\n",
    "with open(actors_one_hot_file, \"rb\") as fp:\n",
    "    actors_one_hot_embeddigns = pickle.load(fp)\n",
    "\n",
    "with open(\"../data/rating_mats/orig_to_new_relabel_map.pickle\", \"rb\") as fp:\n",
    "    orig_to_new_labebl_map = pickle.load(fp)\n",
    "\n",
    "skipped_keys = []\n",
    "updated_actors_one_hot_embeddigns = {}\n",
    "for key, val in actors_one_hot_embeddigns.items():\n",
    "    if int(key) in orig_to_new_labebl_map:\n",
    "        updated_actors_one_hot_embeddigns[orig_to_new_labebl_map[int(key)]] = val\n",
    "    else:\n",
    "        skipped_keys.append(int(key))\n",
    "\n",
    "with open(\"../data/updated_actor_one_hot.pickle\", \"wb\") as fp:\n",
    "    pickle.dump(updated_actors_one_hot_embeddigns, fp)\n"
   ]
  },
  {
   "cell_type": "code",
   "execution_count": 71,
   "metadata": {},
   "outputs": [
    {
     "data": {
      "text/plain": [
       "722"
      ]
     },
     "execution_count": 71,
     "metadata": {},
     "output_type": "execute_result"
    }
   ],
   "source": [
    "len(skipped_keys)"
   ]
  },
  {
   "cell_type": "code",
   "execution_count": 72,
   "metadata": {},
   "outputs": [
    {
     "data": {
      "text/plain": [
       "45114"
      ]
     },
     "execution_count": 72,
     "metadata": {},
     "output_type": "execute_result"
    }
   ],
   "source": [
    "np.max(list(updated_actors_one_hot_embeddigns.keys()))"
   ]
  },
  {
   "cell_type": "code",
   "execution_count": 75,
   "metadata": {},
   "outputs": [
    {
     "data": {
      "text/plain": [
       "array([0., 0., 0., 0., 0., 0., 0., 0., 0., 0., 0., 0., 0., 0., 0., 0., 0.,\n",
       "       0., 0., 0., 0., 0., 0., 0., 0., 0., 0., 0., 0., 0., 0., 0., 0., 0.,\n",
       "       0., 0., 0., 0., 0., 0., 0., 0., 0., 0., 0., 0., 0., 0., 0., 0., 0.,\n",
       "       0., 0., 0., 0., 0., 0., 0., 0., 0., 0., 0., 0., 0., 0., 0., 0., 0.,\n",
       "       0., 0., 0., 0., 0., 0., 1., 0., 0., 0., 0., 0., 0., 0., 0., 0., 0.,\n",
       "       0., 0., 0., 0., 0., 0., 0., 0., 0., 0., 0., 0., 0., 0., 0., 0., 0.,\n",
       "       0., 0., 0., 0., 0., 0., 0., 0., 1., 0., 0., 0., 0., 0., 0., 0., 0.,\n",
       "       0., 0., 0., 0., 0., 0., 0., 0., 0., 0., 0., 0., 0., 0., 0., 0., 0.,\n",
       "       0., 0., 0., 0., 0., 0., 0., 0., 0., 0., 0., 0., 0., 0., 0., 0., 0.,\n",
       "       0., 0., 0., 0., 0., 0., 0., 0., 0., 0., 0., 0., 0., 0., 0., 0., 0.,\n",
       "       0., 0., 0., 0., 0., 0., 0., 0., 0., 0., 0., 0., 0., 0., 0., 0., 0.,\n",
       "       0., 0., 0., 0., 0., 0., 0., 0., 0., 0., 0., 0., 0., 0., 0., 0., 0.,\n",
       "       0., 0., 0., 0., 0., 0., 0., 0., 0., 0., 0., 0., 0., 0., 0., 0., 0.,\n",
       "       0., 0., 0., 0., 0., 0., 0., 0., 0., 0., 0., 0., 0., 0., 0., 0., 0.,\n",
       "       0., 0., 0., 0., 0., 0., 0., 0., 0., 0., 0., 0., 0., 0., 0., 0., 0.,\n",
       "       0., 0., 0., 0., 0., 0., 0., 0., 0., 0., 0., 0., 0., 0., 0., 0., 0.,\n",
       "       0., 0., 0., 0., 0., 0., 0., 0., 0., 0., 0., 0., 0., 0., 0., 0., 0.,\n",
       "       0., 0., 0., 0., 0., 0., 0., 0., 0., 0., 0., 0., 0., 0., 0., 0., 0.,\n",
       "       0., 0., 0., 0., 0., 0., 0., 0., 0., 0., 0., 0., 0., 0., 0., 0., 0.,\n",
       "       0., 0., 0., 0., 0., 0., 0., 0., 0., 0., 0., 0., 0., 0., 0., 0., 0.,\n",
       "       0., 0., 0., 0., 0., 0., 0., 0., 0., 0., 0., 0., 0., 0., 0., 0., 0.,\n",
       "       0., 0., 0., 0., 0., 0., 0., 0., 0., 0., 0., 0., 0., 0., 0., 0., 0.,\n",
       "       0., 0., 0., 0., 0., 0., 0., 0., 0., 0., 0., 0., 0., 0., 0., 0., 0.,\n",
       "       0., 0., 0., 0., 0., 0., 0., 0., 0., 0., 0., 0., 0., 0., 0., 0., 0.,\n",
       "       0., 0., 0., 0., 0., 0., 0., 0., 0., 0.])"
      ]
     },
     "execution_count": 75,
     "metadata": {},
     "output_type": "execute_result"
    }
   ],
   "source": [
    "updated_actors_one_hot_embeddigns[121].ravel()"
   ]
  },
  {
   "cell_type": "code",
   "execution_count": null,
   "metadata": {},
   "outputs": [],
   "source": []
  }
 ],
 "metadata": {
  "kernelspec": {
   "display_name": "Python 3",
   "language": "python",
   "name": "python3"
  },
  "language_info": {
   "codemirror_mode": {
    "name": "ipython",
    "version": 3
   },
   "file_extension": ".py",
   "mimetype": "text/x-python",
   "name": "python",
   "nbconvert_exporter": "python",
   "pygments_lexer": "ipython3",
   "version": "3.7.3"
  }
 },
 "nbformat": 4,
 "nbformat_minor": 2
}
