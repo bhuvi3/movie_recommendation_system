{
 "cells": [
  {
   "cell_type": "code",
   "execution_count": 34,
   "metadata": {},
   "outputs": [],
   "source": [
    "from sklearn.linear_model import RidgeCV\n",
    "\n",
    "from collections import defaultdict\n",
    "\n",
    "import copy\n",
    "import matplotlib.pyplot as plt\n",
    "import numpy as np\n",
    "import pandas as pd\n",
    "import pickle\n",
    "\n",
    "%matplotlib inline"
   ]
  },
  {
   "cell_type": "code",
   "execution_count": 35,
   "metadata": {},
   "outputs": [],
   "source": [
    "# Inputs:\n",
    "val_preds_file = \"../data/inferenced_outpus/val_merged.csv\"\n",
    "test_preds_file = \"../data/inferenced_outpus/test_merged.csv\""
   ]
  },
  {
   "cell_type": "code",
   "execution_count": 36,
   "metadata": {},
   "outputs": [],
   "source": [
    "ordered_columns = [\"user_id\", \"movie_id\", \"y_true\", \"CF_Item\", \"CF_User\", \"LFM\", \"CB_Plot\", \"CB_Poster\"]\n",
    "\n",
    "# Load validation preds df:\n",
    "val_preds_df = pd.read_csv(val_preds_file)[ordered_columns]\n",
    "test_preds_df = pd.read_csv(test_preds_file)[ordered_columns]\n",
    "\n",
    "# These are the features\n",
    "model_col_names = [\"CF_Item\", \"CF_User\", \"LFM\", \"CB_Plot\", \"CB_Poster\"]\n",
    "\n",
    "# 'y_true' is the ground-truth.\n",
    "# index (key) = (user_id, movie_id)"
   ]
  },
  {
   "cell_type": "markdown",
   "metadata": {},
   "source": [
    "# Pre-analysis: Building Aspect based getter functions."
   ]
  },
  {
   "cell_type": "code",
   "execution_count": 38,
   "metadata": {},
   "outputs": [],
   "source": [
    "raintgs_mat_train_file = \"../data/rating_mats/ratings_mat_train.pickle\"\n",
    "\n",
    "with open(raintgs_mat_train_file, \"rb\") as fp:\n",
    "    ratings_mat_train = pickle.load(fp)\n",
    "\n",
    "inv_ratings_mat_train = defaultdict(dict)\n",
    "for user_id, item_ratings in ratings_mat_train.items():\n",
    "    for item_id, rating in item_ratings.items():\n",
    "        inv_ratings_mat_train[item_id][user_id] = rating\n"
   ]
  },
  {
   "cell_type": "markdown",
   "metadata": {},
   "source": [
    "##### Aspect: User"
   ]
  },
  {
   "cell_type": "code",
   "execution_count": 39,
   "metadata": {},
   "outputs": [
    {
     "name": "stdout",
     "output_type": "stream",
     "text": [
      "count    270646.000000\n",
      "mean         91.348385\n",
      "std         195.506129\n",
      "min           1.000000\n",
      "25%          14.000000\n",
      "50%          28.000000\n",
      "75%          88.000000\n",
      "max       17384.000000\n",
      "Name: num_movies, dtype: float64\n",
      "\n",
      "Use func: get_user_aspect_qcut(user_id).\n"
     ]
    }
   ],
   "source": [
    "def get_user_aspect_func():\n",
    "    user_ids = []\n",
    "    num_movies = []\n",
    "    for user_id, item_ratings in ratings_mat_train.items():\n",
    "        user_ids.append(user_id)\n",
    "        num_movies.append(len(item_ratings))\n",
    "\n",
    "    user_aspect_counts = pd.DataFrame({\"user_id\": user_ids, \"num_movies\": num_movies})\n",
    "    print(user_aspect_counts.num_movies.describe())\n",
    "\n",
    "    user_aspect_counts['qcut_label'] = pd.qcut(user_aspect_counts.num_movies.rank(method='first'), 100, labels=False)\n",
    "    user_aspect_counts = user_aspect_counts.set_index(\"user_id\")\n",
    "\n",
    "    def get_user_aspect_qcut(user_id):\n",
    "        return user_aspect_counts.loc[user_id]['qcut_label']\n",
    "\n",
    "    print(\"\\nUse func: get_user_aspect_qcut(user_id).\")\n",
    "    return get_user_aspect_qcut\n",
    "\n",
    "\n",
    "get_user_aspect_qcut = get_user_aspect_func()"
   ]
  },
  {
   "cell_type": "markdown",
   "metadata": {},
   "source": [
    "##### Aspect: Movie"
   ]
  },
  {
   "cell_type": "code",
   "execution_count": 40,
   "metadata": {},
   "outputs": [
    {
     "name": "stdout",
     "output_type": "stream",
     "text": [
      "count    44759.000000\n",
      "mean       552.359861\n",
      "std       2896.279995\n",
      "min          1.000000\n",
      "25%          2.000000\n",
      "50%          8.000000\n",
      "75%         67.000000\n",
      "max      87416.000000\n",
      "Name: num_users, dtype: float64\n",
      "\n",
      "Use func: get_movie_aspect_qcut(movie_id).\n"
     ]
    }
   ],
   "source": [
    "def get_movie_aspect_func():\n",
    "    movie_ids = []\n",
    "    num_users = []\n",
    "\n",
    "    for movie_id, user_ratings in inv_ratings_mat_train.items():\n",
    "        movie_ids.append(movie_id)\n",
    "        num_users.append(len(user_ratings))\n",
    "\n",
    "    movie_aspect_counts = pd.DataFrame({\"movie_id\": movie_ids, \"num_users\": num_users})\n",
    "    print(movie_aspect_counts.num_users.describe())\n",
    "\n",
    "    movie_aspect_counts['qcut_label'] = pd.qcut(movie_aspect_counts.num_users.rank(method='first'), 100, labels=False)\n",
    "    movie_aspect_counts = movie_aspect_counts.set_index(\"movie_id\")\n",
    "\n",
    "    def get_movie_aspect_qcut(movie_id):\n",
    "        return movie_aspect_counts.loc[movie_id]['qcut_label']\n",
    "\n",
    "    print(\"\\nUse func: get_movie_aspect_qcut(movie_id).\")\n",
    "    return get_movie_aspect_qcut\n",
    "\n",
    "\n",
    "get_movie_aspect_qcut = get_movie_aspect_func()"
   ]
  },
  {
   "cell_type": "markdown",
   "metadata": {},
   "source": [
    "##### TODO: Aspect: Genre (categorical)"
   ]
  },
  {
   "cell_type": "code",
   "execution_count": null,
   "metadata": {},
   "outputs": [],
   "source": []
  },
  {
   "cell_type": "markdown",
   "metadata": {},
   "source": [
    "##### TODO: Aspect: Top Actors"
   ]
  },
  {
   "cell_type": "code",
   "execution_count": null,
   "metadata": {},
   "outputs": [],
   "source": []
  },
  {
   "cell_type": "markdown",
   "metadata": {},
   "source": [
    "# Analysis 1: Building ensemble and getting overall results table"
   ]
  },
  {
   "cell_type": "code",
   "execution_count": 46,
   "metadata": {},
   "outputs": [],
   "source": [
    "# Trains on val_df using RidgeCV and predicts and appends to test_df.\n",
    "def train_and_add_ensemble(val_preds_df, test_preds_df, model_col_names, ensemble_model_name):\n",
    "    y_train = val_preds_df['y_true'].values\n",
    "    X_train = val_preds_df[model_col_names].values\n",
    "    \n",
    "    ensemble_model = RidgeCV(normalize=True, alphas=[1e-3, 1e-2, 1e-1, 1], cv=5).fit(X_train, y_train)\n",
    "    print(\"Trained Ridge ensemble model with optimal alpha found: %s\" % ensemble_model.alpha_)\n",
    "\n",
    "    X_test = test_preds_df[model_col_names].values\n",
    "    y_test = test_preds_df['y_true'].values\n",
    "\n",
    "    y_test_ensemble_preds = ensemble_model.predict(X_test)\n",
    "    new_test_preds = copy.copy(test_preds_df)\n",
    "    new_test_preds[ensemble_model_name] = y_test_ensemble_preds\n",
    "    return new_test_preds\n"
   ]
  },
  {
   "cell_type": "code",
   "execution_count": 47,
   "metadata": {},
   "outputs": [
    {
     "name": "stdout",
     "output_type": "stream",
     "text": [
      "Trained Ridge ensemble model with optimal alpha found: 0.001\n"
     ]
    }
   ],
   "source": [
    "# Add ensemble model to the test_preds.\n",
    "ensemble_model_name = \"Ensemble\"\n",
    "test_preds_df = train_and_add_ensemble(val_preds_df, test_preds_df, model_col_names, ensemble_model_name)"
   ]
  },
  {
   "cell_type": "code",
   "execution_count": 48,
   "metadata": {},
   "outputs": [
    {
     "data": {
      "text/html": [
       "<div>\n",
       "<style scoped>\n",
       "    .dataframe tbody tr th:only-of-type {\n",
       "        vertical-align: middle;\n",
       "    }\n",
       "\n",
       "    .dataframe tbody tr th {\n",
       "        vertical-align: top;\n",
       "    }\n",
       "\n",
       "    .dataframe thead th {\n",
       "        text-align: right;\n",
       "    }\n",
       "</style>\n",
       "<table border=\"1\" class=\"dataframe\">\n",
       "  <thead>\n",
       "    <tr style=\"text-align: right;\">\n",
       "      <th></th>\n",
       "      <th>user_id</th>\n",
       "      <th>movie_id</th>\n",
       "      <th>y_true</th>\n",
       "      <th>CF_Item</th>\n",
       "      <th>CF_User</th>\n",
       "      <th>LFM</th>\n",
       "      <th>CB_Plot</th>\n",
       "      <th>CB_Poster</th>\n",
       "      <th>ensemble</th>\n",
       "      <th>Ensemble</th>\n",
       "    </tr>\n",
       "  </thead>\n",
       "  <tbody>\n",
       "    <tr>\n",
       "      <th>0</th>\n",
       "      <td>232116</td>\n",
       "      <td>5344</td>\n",
       "      <td>3.0</td>\n",
       "      <td>2.747471</td>\n",
       "      <td>2.538211</td>\n",
       "      <td>2.769688</td>\n",
       "      <td>2.369373</td>\n",
       "      <td>2.307174</td>\n",
       "      <td>2.754996</td>\n",
       "      <td>2.754996</td>\n",
       "    </tr>\n",
       "    <tr>\n",
       "      <th>1</th>\n",
       "      <td>232116</td>\n",
       "      <td>5044</td>\n",
       "      <td>3.0</td>\n",
       "      <td>3.047979</td>\n",
       "      <td>3.271448</td>\n",
       "      <td>3.465246</td>\n",
       "      <td>2.425986</td>\n",
       "      <td>2.852801</td>\n",
       "      <td>3.485054</td>\n",
       "      <td>3.485054</td>\n",
       "    </tr>\n",
       "    <tr>\n",
       "      <th>2</th>\n",
       "      <td>232116</td>\n",
       "      <td>2146</td>\n",
       "      <td>3.5</td>\n",
       "      <td>3.272716</td>\n",
       "      <td>3.000591</td>\n",
       "      <td>3.230099</td>\n",
       "      <td>1.946241</td>\n",
       "      <td>2.471931</td>\n",
       "      <td>3.238311</td>\n",
       "      <td>3.238311</td>\n",
       "    </tr>\n",
       "    <tr>\n",
       "      <th>3</th>\n",
       "      <td>232116</td>\n",
       "      <td>2513</td>\n",
       "      <td>2.5</td>\n",
       "      <td>3.679375</td>\n",
       "      <td>3.356273</td>\n",
       "      <td>3.486440</td>\n",
       "      <td>2.086815</td>\n",
       "      <td>3.180218</td>\n",
       "      <td>3.495867</td>\n",
       "      <td>3.495867</td>\n",
       "    </tr>\n",
       "    <tr>\n",
       "      <th>4</th>\n",
       "      <td>232116</td>\n",
       "      <td>1825</td>\n",
       "      <td>2.5</td>\n",
       "      <td>3.393934</td>\n",
       "      <td>2.902007</td>\n",
       "      <td>3.444232</td>\n",
       "      <td>2.191972</td>\n",
       "      <td>3.565871</td>\n",
       "      <td>3.479163</td>\n",
       "      <td>3.479163</td>\n",
       "    </tr>\n",
       "  </tbody>\n",
       "</table>\n",
       "</div>"
      ],
      "text/plain": [
       "   user_id  movie_id  y_true   CF_Item   CF_User       LFM   CB_Plot  \\\n",
       "0   232116      5344     3.0  2.747471  2.538211  2.769688  2.369373   \n",
       "1   232116      5044     3.0  3.047979  3.271448  3.465246  2.425986   \n",
       "2   232116      2146     3.5  3.272716  3.000591  3.230099  1.946241   \n",
       "3   232116      2513     2.5  3.679375  3.356273  3.486440  2.086815   \n",
       "4   232116      1825     2.5  3.393934  2.902007  3.444232  2.191972   \n",
       "\n",
       "   CB_Poster  ensemble  Ensemble  \n",
       "0   2.307174  2.754996  2.754996  \n",
       "1   2.852801  3.485054  3.485054  \n",
       "2   2.471931  3.238311  3.238311  \n",
       "3   3.180218  3.495867  3.495867  \n",
       "4   3.565871  3.479163  3.479163  "
      ]
     },
     "execution_count": 48,
     "metadata": {},
     "output_type": "execute_result"
    }
   ],
   "source": [
    "test_preds_df.head()"
   ]
  },
  {
   "cell_type": "code",
   "execution_count": null,
   "metadata": {},
   "outputs": [],
   "source": []
  },
  {
   "cell_type": "code",
   "execution_count": null,
   "metadata": {},
   "outputs": [],
   "source": []
  },
  {
   "cell_type": "code",
   "execution_count": null,
   "metadata": {},
   "outputs": [],
   "source": []
  },
  {
   "cell_type": "code",
   "execution_count": null,
   "metadata": {},
   "outputs": [],
   "source": []
  },
  {
   "cell_type": "code",
   "execution_count": null,
   "metadata": {},
   "outputs": [],
   "source": []
  },
  {
   "cell_type": "code",
   "execution_count": null,
   "metadata": {},
   "outputs": [],
   "source": []
  },
  {
   "cell_type": "code",
   "execution_count": null,
   "metadata": {},
   "outputs": [],
   "source": []
  },
  {
   "cell_type": "code",
   "execution_count": null,
   "metadata": {},
   "outputs": [],
   "source": []
  },
  {
   "cell_type": "code",
   "execution_count": null,
   "metadata": {},
   "outputs": [],
   "source": []
  },
  {
   "cell_type": "code",
   "execution_count": null,
   "metadata": {},
   "outputs": [],
   "source": []
  },
  {
   "cell_type": "code",
   "execution_count": null,
   "metadata": {},
   "outputs": [],
   "source": []
  }
 ],
 "metadata": {
  "kernelspec": {
   "display_name": "Python 3",
   "language": "python",
   "name": "python3"
  },
  "language_info": {
   "codemirror_mode": {
    "name": "ipython",
    "version": 3
   },
   "file_extension": ".py",
   "mimetype": "text/x-python",
   "name": "python",
   "nbconvert_exporter": "python",
   "pygments_lexer": "ipython3",
   "version": "3.7.3"
  }
 },
 "nbformat": 4,
 "nbformat_minor": 2
}
