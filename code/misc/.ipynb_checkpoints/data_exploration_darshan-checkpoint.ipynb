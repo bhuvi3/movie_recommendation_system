{
 "cells": [
  {
   "cell_type": "code",
   "execution_count": 23,
   "metadata": {},
   "outputs": [],
   "source": [
    "import pandas as pd\n",
    "import re"
   ]
  },
  {
   "cell_type": "code",
   "execution_count": 3,
   "metadata": {},
   "outputs": [],
   "source": [
    "data = pd.read_csv('../../data/movies_metadata.csv', dtype=str)"
   ]
  },
  {
   "cell_type": "code",
   "execution_count": 7,
   "metadata": {},
   "outputs": [],
   "source": [
    "poster_column = 'poster_path'\n",
    "id_column = 'id'"
   ]
  },
  {
   "cell_type": "code",
   "execution_count": 12,
   "metadata": {},
   "outputs": [],
   "source": [
    "subset_data = data[[id_column, poster_column]]"
   ]
  },
  {
   "cell_type": "code",
   "execution_count": 16,
   "metadata": {},
   "outputs": [],
   "source": [
    "subset_data = subset_data.dropna()"
   ]
  },
  {
   "cell_type": "code",
   "execution_count": 26,
   "metadata": {},
   "outputs": [],
   "source": [
    "subset_data = subset_data[subset_data[poster_column].astype(str).str.match(\"\\/.+\\.[a-zA-Z]+\")][50:60]"
   ]
  },
  {
   "cell_type": "code",
   "execution_count": 31,
   "metadata": {},
   "outputs": [
    {
     "name": "stdout",
     "output_type": "stream",
     "text": [
      "117164 /hwbKoOSUuzuN2AQppnUxwwd4qOD.jpg\n",
      "11448 /2NcPyb9vPehZ0aOjYayDAW1XeVy.jpg\n",
      "49133 /407nYlg60AOj95lqDZ4tvUTTm1k.jpg\n",
      "26441 /erWfSEcjO4LG69Tlm2mED5JMSqH.jpg\n",
      "97406 /5OTTRuKfiso75xofN8Vl5mRXOQP.jpg\n",
      "124057 /tL9ImxOccEshRlgmrKQabKH2tCd.jpg\n",
      "9089 /97EKLaslQ4gzkvALtqGCDOmsGHk.jpg\n",
      "11010 /qkq2JfINRQi4Iu9VTMMtQFfmGWZ.jpg\n",
      "99040 /8RCRrSAY8e3Qn5p9cNv188ogmZQ.jpg\n",
      "11359 /l16BtfILyWxYwSqzofL3V1rMSwe.jpg\n"
     ]
    }
   ],
   "source": [
    "for x, y in subset_data.values:\n",
    "    print(x, y)"
   ]
  },
  {
   "cell_type": "code",
   "execution_count": 32,
   "metadata": {},
   "outputs": [],
   "source": [
    "import os"
   ]
  },
  {
   "cell_type": "code",
   "execution_count": 33,
   "metadata": {},
   "outputs": [
    {
     "data": {
      "text/plain": [
       "('/qkq2JfINRQi4Iu9VTMMtQFfmGWZ', '.jpg')"
      ]
     },
     "execution_count": 33,
     "metadata": {},
     "output_type": "execute_result"
    }
   ],
   "source": [
    "os.path.splitext('/qkq2JfINRQi4Iu9VTMMtQFfmGWZ.jpg')"
   ]
  },
  {
   "cell_type": "code",
   "execution_count": null,
   "metadata": {},
   "outputs": [],
   "source": []
  }
 ],
 "metadata": {
  "kernelspec": {
   "display_name": "Python 3",
   "language": "python",
   "name": "python3"
  },
  "language_info": {
   "codemirror_mode": {
    "name": "ipython",
    "version": 3
   },
   "file_extension": ".py",
   "mimetype": "text/x-python",
   "name": "python",
   "nbconvert_exporter": "python",
   "pygments_lexer": "ipython3",
   "version": "3.6.7"
  }
 },
 "nbformat": 4,
 "nbformat_minor": 2
}
