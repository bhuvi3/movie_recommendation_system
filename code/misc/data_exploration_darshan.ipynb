{
 "cells": [
  {
   "cell_type": "markdown",
   "metadata": {},
   "source": [
    "## Appending CSV files"
   ]
  },
  {
   "cell_type": "code",
   "execution_count": 72,
   "metadata": {},
   "outputs": [],
   "source": [
    "import pandas as pd\n",
    "import numpy as np\n",
    "import os\n",
    "from sklearn.metrics import roc_auc_score"
   ]
  },
  {
   "cell_type": "code",
   "execution_count": 105,
   "metadata": {},
   "outputs": [],
   "source": [
    "orig_folder = '../../data/CF_User/CFU_val_temp_preds_user/'\n",
    "final_file = '../../data/CF_User/CFU_val_preds_user.csv'"
   ]
  },
  {
   "cell_type": "code",
   "execution_count": 106,
   "metadata": {},
   "outputs": [],
   "source": [
    "file_paths = [os.path.join(orig_folder, fn) for fn in os.listdir(orig_folder)]"
   ]
  },
  {
   "cell_type": "code",
   "execution_count": 107,
   "metadata": {},
   "outputs": [],
   "source": [
    "parts = [pd.read_csv(csv_file) for csv_file in file_paths]"
   ]
  },
  {
   "cell_type": "code",
   "execution_count": 108,
   "metadata": {},
   "outputs": [],
   "source": [
    "final_df = pd.concat(parts)"
   ]
  },
  {
   "cell_type": "code",
   "execution_count": 109,
   "metadata": {},
   "outputs": [],
   "source": [
    "final_df.to_csv(final_file, index=False)"
   ]
  },
  {
   "cell_type": "code",
   "execution_count": 110,
   "metadata": {},
   "outputs": [
    {
     "data": {
      "text/plain": [
       "639494"
      ]
     },
     "execution_count": 110,
     "metadata": {},
     "output_type": "execute_result"
    }
   ],
   "source": [
    "len(final_df)"
   ]
  },
  {
   "cell_type": "code",
   "execution_count": null,
   "metadata": {},
   "outputs": [],
   "source": []
  },
  {
   "cell_type": "markdown",
   "metadata": {},
   "source": [
    "## Joining CSV files"
   ]
  },
  {
   "cell_type": "code",
   "execution_count": 111,
   "metadata": {},
   "outputs": [],
   "source": [
    "import pandas as pd\n",
    "import numpy as np\n",
    "import os"
   ]
  },
  {
   "cell_type": "code",
   "execution_count": 132,
   "metadata": {},
   "outputs": [],
   "source": [
    "orig_folder = '../../data/test_stuff/'\n",
    "final_file = '../../data/merged.csv'"
   ]
  },
  {
   "cell_type": "code",
   "execution_count": 113,
   "metadata": {},
   "outputs": [],
   "source": [
    "file_paths = [os.path.join(orig_folder, fn) for fn in os.listdir(orig_folder)]"
   ]
  },
  {
   "cell_type": "code",
   "execution_count": 126,
   "metadata": {},
   "outputs": [],
   "source": [
    "parts = [pd.read_csv(csv_file) for csv_file in file_paths]"
   ]
  },
  {
   "cell_type": "code",
   "execution_count": 127,
   "metadata": {},
   "outputs": [],
   "source": [
    "merged_data = parts[0]"
   ]
  },
  {
   "cell_type": "code",
   "execution_count": 129,
   "metadata": {},
   "outputs": [],
   "source": [
    "for part in parts[1:]:\n",
    "    merged_data = pd.merge(left=merged_data, right=part, on=['movie_id', 'user_id', 'y_true'], validate='one_to_one')"
   ]
  },
  {
   "cell_type": "code",
   "execution_count": 130,
   "metadata": {},
   "outputs": [
    {
     "data": {
      "text/plain": [
       "625399"
      ]
     },
     "execution_count": 130,
     "metadata": {},
     "output_type": "execute_result"
    }
   ],
   "source": [
    "len(merged_data)"
   ]
  },
  {
   "cell_type": "code",
   "execution_count": 133,
   "metadata": {},
   "outputs": [],
   "source": [
    "merged_data.to_csv(final_file, index=False)"
   ]
  },
  {
   "cell_type": "code",
   "execution_count": null,
   "metadata": {},
   "outputs": [],
   "source": []
  },
  {
   "cell_type": "markdown",
   "metadata": {},
   "source": [
    "## DF to PredictionHandler"
   ]
  },
  {
   "cell_type": "code",
   "execution_count": 153,
   "metadata": {},
   "outputs": [],
   "source": [
    "class PredictionHandler(object):\n",
    "    def __init__(self, ground_truth):\n",
    "        self._predictions = {'ground_truth': ground_truth}\n",
    "        self._num_preds = len(ground_truth)\n",
    "        \n",
    "    def add_prediction(self, model_name, predictions):\n",
    "        if len(predictions) != self._num_preds:\n",
    "            raise \"Number of predictions different from the ground truth.\"\n",
    "        self._predictions[model_name] = predictions\n",
    "    \n",
    "    def get_models_list(self):\n",
    "        return list(self._predictions.keys())\n",
    "    \n",
    "    def get_predictions(self, model_name=None):\n",
    "        if model_name and model_name in self._predictions:\n",
    "            return self._predictions[model_name]\n",
    "        else:\n",
    "            return self._predictions\n",
    "\n",
    "\n",
    "def df_to_prediction_handler(df):\n",
    "    y_true = np.array(df['y_true'].values)\n",
    "    predicted_df = df.drop(columns=['user_id', 'movie_id', 'y_true'])\n",
    "    columns = predicted_df.columns\n",
    "    \n",
    "    prediction_handler = PredictionHandler(ground_truth=y_true)\n",
    "    for model_name in columns:\n",
    "        prediction_handler.add_prediction(model_name, \n",
    "                                          np.array(df[model_name].values))\n",
    "        \n",
    "    return prediction_handler"
   ]
  },
  {
   "cell_type": "code",
   "execution_count": 154,
   "metadata": {},
   "outputs": [],
   "source": [
    "import pandas as pd\n",
    "import numpy as np\n",
    "import os"
   ]
  },
  {
   "cell_type": "code",
   "execution_count": 155,
   "metadata": {},
   "outputs": [],
   "source": [
    "merged_handler = df_to_prediction_handler(merged_data)"
   ]
  },
  {
   "cell_type": "code",
   "execution_count": 144,
   "metadata": {
    "scrolled": true
   },
   "outputs": [
    {
     "data": {
      "text/plain": [
       "[625399, 625399, 625399, 625399]"
      ]
     },
     "execution_count": 144,
     "metadata": {},
     "output_type": "execute_result"
    }
   ],
   "source": [
    "[len(merged_handler.get_predictions(model)) for model in merged_handler.get_models_list()]"
   ]
  },
  {
   "cell_type": "code",
   "execution_count": 148,
   "metadata": {},
   "outputs": [
    {
     "data": {
      "text/plain": [
       "['ground_truth', 'CF_User', 'CF_Item', 'LFM']"
      ]
     },
     "execution_count": 148,
     "metadata": {},
     "output_type": "execute_result"
    }
   ],
   "source": [
    "merged_handler.get_models_list()"
   ]
  },
  {
   "cell_type": "markdown",
   "metadata": {},
   "source": [
    "## Performance Analyzer"
   ]
  },
  {
   "cell_type": "code",
   "execution_count": 150,
   "metadata": {},
   "outputs": [],
   "source": [
    "import numpy as np\n",
    "import pandas as pd\n",
    "from sklearn.metrics import roc_auc_score, roc_curve, mean_squared_error\n",
    "import matplotlib.pyplot as plt\n",
    "from math import sqrt\n",
    "\n",
    "%matplotlib inline"
   ]
  },
  {
   "cell_type": "code",
   "execution_count": 187,
   "metadata": {},
   "outputs": [],
   "source": [
    "class PerformanceAnalyzer(object):\n",
    "    \n",
    "    def __init__(self, prediction_handler: PredictionHandler, \n",
    "                 roc_thresholds=[3], rmse_thresholds=[0]):\n",
    "        self._prediction_handler = prediction_handler\n",
    "        self._ground_truth_label = 'ground_truth'\n",
    "        self._model_names = self._prediction_handler.get_models_list()\n",
    "        self._model_names.remove(self._ground_truth_label)\n",
    "        self._roc_thresholds = roc_thresholds\n",
    "        self._rmse_thresholds = rmse_thresholds\n",
    "    \n",
    "    \n",
    "    def _rmse_at_threshold(self, y_true, y_pred, threshold):\n",
    "        indices = y_true >= threshold\n",
    "        rmse = sqrt(mean_squared_error(y_true[indices], y_pred[indices]))\n",
    "        return rmse\n",
    "    \n",
    "    \n",
    "    def _roc_at_threshold(self, y_true, y_pred, threshold):\n",
    "        \n",
    "        # Threshold ground truth ratings\n",
    "        y_true_thresh = np.where(y_true >= threshold, 1, 0)\n",
    "        \n",
    "        # Scale the predictions to bring them to 0-1 range from 0-5 range\n",
    "        y_pred_scaled = y_pred / 5\n",
    "        \n",
    "        # Calculate the area under the ROC curve\n",
    "        area = roc_auc_score(y_true_thresh, y_pred_scaled)\n",
    "        \n",
    "        return area\n",
    "    \n",
    "    \n",
    "    def get_scores(self):\n",
    "        scores = {}\n",
    "        y_true = self._prediction_handler.get_predictions(self._ground_truth_label)\n",
    "        \n",
    "        for roc_threshold in self._roc_thresholds:\n",
    "            metric_name = 'roc_auc_at_' + str(roc_threshold)\n",
    "            score_metric = {}\n",
    "            for model in self._model_names:\n",
    "                score_metric[model] = self._roc_at_threshold(y_true, \n",
    "                                                             self._prediction_handler.get_predictions(model), \n",
    "                                                             roc_threshold)\n",
    "            scores[metric_name] = score_metric\n",
    "            \n",
    "        for rmse_threshold in self._rmse_thresholds:\n",
    "            metric_name = 'rmse_at_' + str(rmse_threshold)\n",
    "            score_metric = {}\n",
    "            for model in self._model_names:\n",
    "                score_metric[model] = self._rmse_at_threshold(y_true, \n",
    "                                                              self._prediction_handler.get_predictions(model), \n",
    "                                                              rmse_threshold)\n",
    "            scores[metric_name] = score_metric\n",
    "        \n",
    "        return scores\n",
    "    \n",
    "    \n",
    "    def plot_roc_at_threshold(self, output_file, threshold=3):\n",
    "        plt.rcParams['figure.figsize'] = [8, 8]\n",
    "        \n",
    "        # Threshold ground truth ratings\n",
    "        y_true = np.where(self._prediction_handler.get_predictions(self._ground_truth_label) >= threshold, \n",
    "                          1, 0)\n",
    "        plt.plot([0, 1], [0, 1], 'k--')\n",
    "        for model in self._model_names:\n",
    "            y_pred = self._prediction_handler.get_predictions(model)\n",
    "            fpr, tpr, thresh = roc_curve(y_true, y_pred)\n",
    "            auc = roc_auc_score(y_true, y_pred)\n",
    "            plt.plot(fpr, tpr, label='%s ROC (area = %0.2f)' % (model, auc))\n",
    "            \n",
    "        plt.xlabel('Specificity (False Positive Rate)')\n",
    "        plt.ylabel('Sensitivity (True Positive Rate)')\n",
    "        plt.title('Receiver Operating Characteristic')\n",
    "        plt.legend(loc=\"lower right\")\n",
    "        plt.savefig(output_file)\n",
    "    \n",
    "    def get_models_list(self):\n",
    "        return self._model_names\n",
    "    "
   ]
  },
  {
   "cell_type": "code",
   "execution_count": 189,
   "metadata": {},
   "outputs": [],
   "source": [
    "ph = PerformanceAnalyzer(merged_handler, roc_thresholds=[2.5, 3, 3.5], \n",
    "                         rmse_thresholds=[0, 2.5, 3, 3.5])"
   ]
  },
  {
   "cell_type": "code",
   "execution_count": 190,
   "metadata": {},
   "outputs": [
    {
     "data": {
      "text/html": [
       "<div>\n",
       "<style scoped>\n",
       "    .dataframe tbody tr th:only-of-type {\n",
       "        vertical-align: middle;\n",
       "    }\n",
       "\n",
       "    .dataframe tbody tr th {\n",
       "        vertical-align: top;\n",
       "    }\n",
       "\n",
       "    .dataframe thead th {\n",
       "        text-align: right;\n",
       "    }\n",
       "</style>\n",
       "<table border=\"1\" class=\"dataframe\">\n",
       "  <thead>\n",
       "    <tr style=\"text-align: right;\">\n",
       "      <th></th>\n",
       "      <th>roc_auc_at_2.5</th>\n",
       "      <th>roc_auc_at_3</th>\n",
       "      <th>roc_auc_at_3.5</th>\n",
       "      <th>rmse_at_0</th>\n",
       "      <th>rmse_at_2.5</th>\n",
       "      <th>rmse_at_3</th>\n",
       "      <th>rmse_at_3.5</th>\n",
       "    </tr>\n",
       "  </thead>\n",
       "  <tbody>\n",
       "    <tr>\n",
       "      <th>CF_Item</th>\n",
       "      <td>0.747106</td>\n",
       "      <td>0.741582</td>\n",
       "      <td>0.729348</td>\n",
       "      <td>1.038232</td>\n",
       "      <td>0.890805</td>\n",
       "      <td>0.877066</td>\n",
       "      <td>0.885455</td>\n",
       "    </tr>\n",
       "    <tr>\n",
       "      <th>CF_User</th>\n",
       "      <td>0.764403</td>\n",
       "      <td>0.760409</td>\n",
       "      <td>0.747938</td>\n",
       "      <td>0.939172</td>\n",
       "      <td>0.782601</td>\n",
       "      <td>0.774618</td>\n",
       "      <td>0.801479</td>\n",
       "    </tr>\n",
       "    <tr>\n",
       "      <th>LFM</th>\n",
       "      <td>0.835386</td>\n",
       "      <td>0.835011</td>\n",
       "      <td>0.813166</td>\n",
       "      <td>0.820836</td>\n",
       "      <td>0.671772</td>\n",
       "      <td>0.665800</td>\n",
       "      <td>0.689381</td>\n",
       "    </tr>\n",
       "  </tbody>\n",
       "</table>\n",
       "</div>"
      ],
      "text/plain": [
       "         roc_auc_at_2.5  roc_auc_at_3  roc_auc_at_3.5  rmse_at_0  rmse_at_2.5  \\\n",
       "CF_Item        0.747106      0.741582        0.729348   1.038232     0.890805   \n",
       "CF_User        0.764403      0.760409        0.747938   0.939172     0.782601   \n",
       "LFM            0.835386      0.835011        0.813166   0.820836     0.671772   \n",
       "\n",
       "         rmse_at_3  rmse_at_3.5  \n",
       "CF_Item   0.877066     0.885455  \n",
       "CF_User   0.774618     0.801479  \n",
       "LFM       0.665800     0.689381  "
      ]
     },
     "execution_count": 190,
     "metadata": {},
     "output_type": "execute_result"
    }
   ],
   "source": [
    "pd.DataFrame.from_dict(ph.get_scores())"
   ]
  },
  {
   "cell_type": "code",
   "execution_count": 191,
   "metadata": {},
   "outputs": [
    {
     "data": {
      "image/png": "[encoded data removed]",
      "text/plain": [
       "<Figure size 576x576 with 1 Axes>"
      ]
     },
     "metadata": {
      "needs_background": "light"
     },
     "output_type": "display_data"
    }
   ],
   "source": [
    "ph.plot_roc_at_threshold('')"
   ]
  },
  {
   "cell_type": "code",
   "execution_count": null,
   "metadata": {},
   "outputs": [],
   "source": []
  }
 ],
 "metadata": {
  "kernelspec": {
   "display_name": "Python 3",
   "language": "python",
   "name": "python3"
  },
  "language_info": {
   "codemirror_mode": {
    "name": "ipython",
    "version": 3
   },
   "file_extension": ".py",
   "mimetype": "text/x-python",
   "name": "python",
   "nbconvert_exporter": "python",
   "pygments_lexer": "ipython3",
   "version": "3.6.7"
  }
 },
 "nbformat": 4,
 "nbformat_minor": 2
}
