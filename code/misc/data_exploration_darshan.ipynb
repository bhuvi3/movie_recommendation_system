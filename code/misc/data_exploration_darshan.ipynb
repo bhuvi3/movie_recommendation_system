{
 "cells": [
  {
   "cell_type": "markdown",
   "metadata": {},
   "source": [
    "## Appending CSV files"
   ]
  },
  {
   "cell_type": "code",
   "execution_count": 192,
   "metadata": {},
   "outputs": [],
   "source": [
    "import pandas as pd\n",
    "import numpy as np\n",
    "import os\n",
    "from sklearn.metrics import roc_auc_score"
   ]
  },
  {
   "cell_type": "code",
   "execution_count": 199,
   "metadata": {},
   "outputs": [],
   "source": [
    "orig_folder = '../../data/CB_PlotsPosters/val_temp_preds/'\n",
    "final_file = '../../data/CB_PlotsPosters/CB_plot_poster_val_preds.csv'"
   ]
  },
  {
   "cell_type": "code",
   "execution_count": 200,
   "metadata": {},
   "outputs": [],
   "source": [
    "file_paths = [os.path.join(orig_folder, fn) for fn in os.listdir(orig_folder)]"
   ]
  },
  {
   "cell_type": "code",
   "execution_count": 201,
   "metadata": {},
   "outputs": [],
   "source": [
    "parts = [pd.read_csv(csv_file) for csv_file in file_paths]"
   ]
  },
  {
   "cell_type": "code",
   "execution_count": 202,
   "metadata": {},
   "outputs": [],
   "source": [
    "final_df = pd.concat(parts)"
   ]
  },
  {
   "cell_type": "code",
   "execution_count": 203,
   "metadata": {},
   "outputs": [],
   "source": [
    "final_df.to_csv(final_file, index=False)"
   ]
  },
  {
   "cell_type": "code",
   "execution_count": 204,
   "metadata": {},
   "outputs": [
    {
     "data": {
      "text/plain": [
       "583519"
      ]
     },
     "execution_count": 204,
     "metadata": {},
     "output_type": "execute_result"
    }
   ],
   "source": [
    "len(final_df)"
   ]
  },
  {
   "cell_type": "code",
   "execution_count": null,
   "metadata": {},
   "outputs": [],
   "source": []
  },
  {
   "cell_type": "markdown",
   "metadata": {},
   "source": [
    "## Joining CSV files"
   ]
  },
  {
   "cell_type": "code",
   "execution_count": 205,
   "metadata": {},
   "outputs": [],
   "source": [
    "import pandas as pd\n",
    "import numpy as np\n",
    "import os"
   ]
  },
  {
   "cell_type": "code",
   "execution_count": 213,
   "metadata": {},
   "outputs": [],
   "source": [
    "orig_folder = '../../data/test_merged/'\n",
    "final_file = '../../data/test_merged/test_merged.csv'"
   ]
  },
  {
   "cell_type": "code",
   "execution_count": 214,
   "metadata": {},
   "outputs": [],
   "source": [
    "file_paths = [os.path.join(orig_folder, fn) for fn in os.listdir(orig_folder)]"
   ]
  },
  {
   "cell_type": "code",
   "execution_count": 215,
   "metadata": {},
   "outputs": [],
   "source": [
    "parts = [pd.read_csv(csv_file) for csv_file in file_paths]"
   ]
  },
  {
   "cell_type": "code",
   "execution_count": 216,
   "metadata": {},
   "outputs": [],
   "source": [
    "merged_data = parts[0]"
   ]
  },
  {
   "cell_type": "code",
   "execution_count": 217,
   "metadata": {},
   "outputs": [],
   "source": [
    "for part in parts[1:]:\n",
    "    merged_data = pd.merge(left=merged_data, right=part, on=['movie_id', 'user_id', 'y_true'], validate='one_to_one')"
   ]
  },
  {
   "cell_type": "code",
   "execution_count": 218,
   "metadata": {},
   "outputs": [
    {
     "data": {
      "text/plain": [
       "495331"
      ]
     },
     "execution_count": 218,
     "metadata": {},
     "output_type": "execute_result"
    }
   ],
   "source": [
    "len(merged_data)"
   ]
  },
  {
   "cell_type": "code",
   "execution_count": 219,
   "metadata": {},
   "outputs": [],
   "source": [
    "merged_data.to_csv(final_file, index=False)"
   ]
  },
  {
   "cell_type": "code",
   "execution_count": null,
   "metadata": {},
   "outputs": [],
   "source": []
  },
  {
   "cell_type": "markdown",
   "metadata": {},
   "source": [
    "## DF to PredictionHandler"
   ]
  },
  {
   "cell_type": "code",
   "execution_count": 220,
   "metadata": {},
   "outputs": [],
   "source": [
    "class PredictionHandler(object):\n",
    "    def __init__(self, ground_truth):\n",
    "        self._predictions = {'ground_truth': ground_truth}\n",
    "        self._num_preds = len(ground_truth)\n",
    "        \n",
    "    def add_prediction(self, model_name, predictions):\n",
    "        if len(predictions) != self._num_preds:\n",
    "            raise \"Number of predictions different from the ground truth.\"\n",
    "        self._predictions[model_name] = predictions\n",
    "    \n",
    "    def get_models_list(self):\n",
    "        return list(self._predictions.keys())\n",
    "    \n",
    "    def get_predictions(self, model_name=None):\n",
    "        if model_name and model_name in self._predictions:\n",
    "            return self._predictions[model_name]\n",
    "        else:\n",
    "            return self._predictions\n",
    "\n",
    "\n",
    "def df_to_prediction_handler(df):\n",
    "    y_true = np.array(df['y_true'].values)\n",
    "    predicted_df = df.drop(columns=['user_id', 'movie_id', 'y_true'])\n",
    "    columns = predicted_df.columns\n",
    "    \n",
    "    prediction_handler = PredictionHandler(ground_truth=y_true)\n",
    "    for model_name in columns:\n",
    "        prediction_handler.add_prediction(model_name, \n",
    "                                          np.array(df[model_name].values))\n",
    "        \n",
    "    return prediction_handler"
   ]
  },
  {
   "cell_type": "code",
   "execution_count": 221,
   "metadata": {},
   "outputs": [],
   "source": [
    "import pandas as pd\n",
    "import numpy as np\n",
    "import os"
   ]
  },
  {
   "cell_type": "code",
   "execution_count": 222,
   "metadata": {},
   "outputs": [],
   "source": [
    "merged_handler = df_to_prediction_handler(merged_data)"
   ]
  },
  {
   "cell_type": "code",
   "execution_count": 223,
   "metadata": {
    "scrolled": true
   },
   "outputs": [
    {
     "data": {
      "text/plain": [
       "[495331, 495331, 495331, 495331, 495331, 495331]"
      ]
     },
     "execution_count": 223,
     "metadata": {},
     "output_type": "execute_result"
    }
   ],
   "source": [
    "[len(merged_handler.get_predictions(model)) for model in merged_handler.get_models_list()]"
   ]
  },
  {
   "cell_type": "code",
   "execution_count": 224,
   "metadata": {},
   "outputs": [
    {
     "data": {
      "text/plain": [
       "['ground_truth', 'CF_User', 'CB_Plot', 'CB_Poster', 'CF_Item', 'LFM']"
      ]
     },
     "execution_count": 224,
     "metadata": {},
     "output_type": "execute_result"
    }
   ],
   "source": [
    "merged_handler.get_models_list()"
   ]
  },
  {
   "cell_type": "markdown",
   "metadata": {},
   "source": [
    "## Performance Analyzer"
   ]
  },
  {
   "cell_type": "code",
   "execution_count": 150,
   "metadata": {},
   "outputs": [],
   "source": [
    "import numpy as np\n",
    "import pandas as pd\n",
    "from sklearn.metrics import roc_auc_score, roc_curve, mean_squared_error\n",
    "import matplotlib.pyplot as plt\n",
    "from math import sqrt\n",
    "\n",
    "%matplotlib inline"
   ]
  },
  {
   "cell_type": "code",
   "execution_count": 225,
   "metadata": {},
   "outputs": [],
   "source": [
    "class PerformanceAnalyzer(object):\n",
    "    \n",
    "    def __init__(self, prediction_handler: PredictionHandler, \n",
    "                 roc_thresholds=[3], rmse_thresholds=[0]):\n",
    "        self._prediction_handler = prediction_handler\n",
    "        self._ground_truth_label = 'ground_truth'\n",
    "        self._model_names = self._prediction_handler.get_models_list()\n",
    "        self._model_names.remove(self._ground_truth_label)\n",
    "        self._roc_thresholds = roc_thresholds\n",
    "        self._rmse_thresholds = rmse_thresholds\n",
    "    \n",
    "    \n",
    "    def _rmse_at_threshold(self, y_true, y_pred, threshold):\n",
    "        indices = y_true >= threshold\n",
    "        rmse = sqrt(mean_squared_error(y_true[indices], y_pred[indices]))\n",
    "        return rmse\n",
    "    \n",
    "    \n",
    "    def _roc_at_threshold(self, y_true, y_pred, threshold):\n",
    "        \n",
    "        # Threshold ground truth ratings\n",
    "        y_true_thresh = np.where(y_true >= threshold, 1, 0)\n",
    "        \n",
    "        # Scale the predictions to bring them to 0-1 range from 0-5 range\n",
    "        y_pred_scaled = y_pred / 5\n",
    "        \n",
    "        # Calculate the area under the ROC curve\n",
    "        area = roc_auc_score(y_true_thresh, y_pred_scaled)\n",
    "        \n",
    "        return area\n",
    "    \n",
    "    \n",
    "    def get_scores(self):\n",
    "        scores = {}\n",
    "        y_true = self._prediction_handler.get_predictions(self._ground_truth_label)\n",
    "        \n",
    "        for roc_threshold in self._roc_thresholds:\n",
    "            metric_name = 'roc_auc_at_' + str(roc_threshold)\n",
    "            score_metric = {}\n",
    "            for model in self._model_names:\n",
    "                score_metric[model] = self._roc_at_threshold(y_true, \n",
    "                                                             self._prediction_handler.get_predictions(model), \n",
    "                                                             roc_threshold)\n",
    "            scores[metric_name] = score_metric\n",
    "            \n",
    "        for rmse_threshold in self._rmse_thresholds:\n",
    "            metric_name = 'rmse_at_' + str(rmse_threshold)\n",
    "            score_metric = {}\n",
    "            for model in self._model_names:\n",
    "                score_metric[model] = self._rmse_at_threshold(y_true, \n",
    "                                                              self._prediction_handler.get_predictions(model), \n",
    "                                                              rmse_threshold)\n",
    "            scores[metric_name] = score_metric\n",
    "        \n",
    "        return scores\n",
    "    \n",
    "    \n",
    "    def plot_roc_at_threshold(self, output_file, threshold=3):\n",
    "        plt.rcParams['figure.figsize'] = [8, 8]\n",
    "        \n",
    "        # Threshold ground truth ratings\n",
    "        y_true = np.where(self._prediction_handler.get_predictions(self._ground_truth_label) >= threshold, \n",
    "                          1, 0)\n",
    "        plt.plot([0, 1], [0, 1], 'k--')\n",
    "        for model in self._model_names:\n",
    "            y_pred = self._prediction_handler.get_predictions(model)\n",
    "            fpr, tpr, thresh = roc_curve(y_true, y_pred)\n",
    "            auc = roc_auc_score(y_true, y_pred)\n",
    "            plt.plot(fpr, tpr, label='%s ROC (area = %0.2f)' % (model, auc))\n",
    "            \n",
    "        plt.xlabel('Specificity (False Positive Rate)')\n",
    "        plt.ylabel('Sensitivity (True Positive Rate)')\n",
    "        plt.title('Receiver Operating Characteristic')\n",
    "        plt.legend(loc=\"lower right\")\n",
    "        plt.savefig(output_file)\n",
    "    \n",
    "    def get_models_list(self):\n",
    "        return self._model_names\n",
    "    "
   ]
  },
  {
   "cell_type": "code",
   "execution_count": 226,
   "metadata": {},
   "outputs": [],
   "source": [
    "ph = PerformanceAnalyzer(merged_handler, roc_thresholds=[2.5, 3, 3.5], \n",
    "                         rmse_thresholds=[0, 2.5, 3, 3.5])"
   ]
  },
  {
   "cell_type": "code",
   "execution_count": 227,
   "metadata": {},
   "outputs": [
    {
     "data": {
      "text/html": [
       "<div>\n",
       "<style scoped>\n",
       "    .dataframe tbody tr th:only-of-type {\n",
       "        vertical-align: middle;\n",
       "    }\n",
       "\n",
       "    .dataframe tbody tr th {\n",
       "        vertical-align: top;\n",
       "    }\n",
       "\n",
       "    .dataframe thead th {\n",
       "        text-align: right;\n",
       "    }\n",
       "</style>\n",
       "<table border=\"1\" class=\"dataframe\">\n",
       "  <thead>\n",
       "    <tr style=\"text-align: right;\">\n",
       "      <th></th>\n",
       "      <th>roc_auc_at_2.5</th>\n",
       "      <th>roc_auc_at_3</th>\n",
       "      <th>roc_auc_at_3.5</th>\n",
       "      <th>rmse_at_0</th>\n",
       "      <th>rmse_at_2.5</th>\n",
       "      <th>rmse_at_3</th>\n",
       "      <th>rmse_at_3.5</th>\n",
       "    </tr>\n",
       "  </thead>\n",
       "  <tbody>\n",
       "    <tr>\n",
       "      <th>CB_Plot</th>\n",
       "      <td>0.486981</td>\n",
       "      <td>0.482122</td>\n",
       "      <td>0.488304</td>\n",
       "      <td>1.685106</td>\n",
       "      <td>1.765856</td>\n",
       "      <td>1.812947</td>\n",
       "      <td>2.039785</td>\n",
       "    </tr>\n",
       "    <tr>\n",
       "      <th>CB_Poster</th>\n",
       "      <td>0.498963</td>\n",
       "      <td>0.497026</td>\n",
       "      <td>0.498197</td>\n",
       "      <td>1.145249</td>\n",
       "      <td>0.971810</td>\n",
       "      <td>0.972925</td>\n",
       "      <td>1.078919</td>\n",
       "    </tr>\n",
       "    <tr>\n",
       "      <th>CF_Item</th>\n",
       "      <td>0.745329</td>\n",
       "      <td>0.738709</td>\n",
       "      <td>0.728444</td>\n",
       "      <td>1.036728</td>\n",
       "      <td>0.888089</td>\n",
       "      <td>0.874164</td>\n",
       "      <td>0.882816</td>\n",
       "    </tr>\n",
       "    <tr>\n",
       "      <th>CF_User</th>\n",
       "      <td>0.766093</td>\n",
       "      <td>0.760726</td>\n",
       "      <td>0.746923</td>\n",
       "      <td>0.938195</td>\n",
       "      <td>0.783267</td>\n",
       "      <td>0.775016</td>\n",
       "      <td>0.801555</td>\n",
       "    </tr>\n",
       "    <tr>\n",
       "      <th>LFM</th>\n",
       "      <td>0.835742</td>\n",
       "      <td>0.834862</td>\n",
       "      <td>0.812468</td>\n",
       "      <td>0.819914</td>\n",
       "      <td>0.671417</td>\n",
       "      <td>0.665010</td>\n",
       "      <td>0.687557</td>\n",
       "    </tr>\n",
       "  </tbody>\n",
       "</table>\n",
       "</div>"
      ],
      "text/plain": [
       "           roc_auc_at_2.5  roc_auc_at_3  roc_auc_at_3.5  rmse_at_0  \\\n",
       "CB_Plot          0.486981      0.482122        0.488304   1.685106   \n",
       "CB_Poster        0.498963      0.497026        0.498197   1.145249   \n",
       "CF_Item          0.745329      0.738709        0.728444   1.036728   \n",
       "CF_User          0.766093      0.760726        0.746923   0.938195   \n",
       "LFM              0.835742      0.834862        0.812468   0.819914   \n",
       "\n",
       "           rmse_at_2.5  rmse_at_3  rmse_at_3.5  \n",
       "CB_Plot       1.765856   1.812947     2.039785  \n",
       "CB_Poster     0.971810   0.972925     1.078919  \n",
       "CF_Item       0.888089   0.874164     0.882816  \n",
       "CF_User       0.783267   0.775016     0.801555  \n",
       "LFM           0.671417   0.665010     0.687557  "
      ]
     },
     "execution_count": 227,
     "metadata": {},
     "output_type": "execute_result"
    }
   ],
   "source": [
    "pd.DataFrame.from_dict(ph.get_scores())"
   ]
  },
  {
   "cell_type": "code",
   "execution_count": 228,
   "metadata": {},
   "outputs": [
    {
     "data": {
      "image/png": "[encoded data removed]",
      "text/plain": [
       "<Figure size 576x576 with 1 Axes>"
      ]
     },
     "metadata": {
      "needs_background": "light"
     },
     "output_type": "display_data"
    }
   ],
   "source": [
    "ph.plot_roc_at_threshold('../../data/test.png')"
   ]
  },
  {
   "cell_type": "code",
   "execution_count": null,
   "metadata": {},
   "outputs": [],
   "source": []
  }
 ],
 "metadata": {
  "kernelspec": {
   "display_name": "Python 3",
   "language": "python",
   "name": "python3"
  },
  "language_info": {
   "codemirror_mode": {
    "name": "ipython",
    "version": 3
   },
   "file_extension": ".py",
   "mimetype": "text/x-python",
   "name": "python",
   "nbconvert_exporter": "python",
   "pygments_lexer": "ipython3",
   "version": "3.6.7"
  }
 },
 "nbformat": 4,
 "nbformat_minor": 2
}
